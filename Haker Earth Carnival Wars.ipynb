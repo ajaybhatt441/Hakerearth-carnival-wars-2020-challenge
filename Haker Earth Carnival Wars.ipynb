{
 "cells": [
  {
   "cell_type": "code",
   "execution_count": 3,
   "metadata": {},
   "outputs": [],
   "source": [
    "import numpy as np \n",
    "import pandas as pd\n",
    "import matplotlib.pyplot as plt \n",
    "import seaborn as sns\n",
    "import pickle"
   ]
  },
  {
   "cell_type": "code",
   "execution_count": 4,
   "metadata": {},
   "outputs": [],
   "source": [
    "train=pd.read_csv('Haker earth carnival wars/train.csv')"
   ]
  },
  {
   "cell_type": "code",
   "execution_count": 5,
   "metadata": {},
   "outputs": [
    {
     "data": {
      "text/html": [
       "<div>\n",
       "<style scoped>\n",
       "    .dataframe tbody tr th:only-of-type {\n",
       "        vertical-align: middle;\n",
       "    }\n",
       "\n",
       "    .dataframe tbody tr th {\n",
       "        vertical-align: top;\n",
       "    }\n",
       "\n",
       "    .dataframe thead th {\n",
       "        text-align: right;\n",
       "    }\n",
       "</style>\n",
       "<table border=\"1\" class=\"dataframe\">\n",
       "  <thead>\n",
       "    <tr style=\"text-align: right;\">\n",
       "      <th></th>\n",
       "      <th>Product_id</th>\n",
       "      <th>Stall_no</th>\n",
       "      <th>instock_date</th>\n",
       "      <th>Market_Category</th>\n",
       "      <th>Customer_name</th>\n",
       "      <th>Loyalty_customer</th>\n",
       "      <th>Product_Category</th>\n",
       "      <th>Grade</th>\n",
       "      <th>Demand</th>\n",
       "      <th>Discount_avail</th>\n",
       "      <th>charges_1</th>\n",
       "      <th>charges_2 (%)</th>\n",
       "      <th>Minimum_price</th>\n",
       "      <th>Maximum_price</th>\n",
       "      <th>Selling_Price</th>\n",
       "    </tr>\n",
       "  </thead>\n",
       "  <tbody>\n",
       "    <tr>\n",
       "      <th>0</th>\n",
       "      <td>BRAE2NF6JA5GUEXG</td>\n",
       "      <td>37.0</td>\n",
       "      <td>2015-08-22 18:36:12.000</td>\n",
       "      <td>2</td>\n",
       "      <td>Lillyann</td>\n",
       "      <td>Yes</td>\n",
       "      <td>Fashion</td>\n",
       "      <td>1</td>\n",
       "      <td>68</td>\n",
       "      <td>0.0</td>\n",
       "      <td>376.0</td>\n",
       "      <td>11.0</td>\n",
       "      <td>2983.0</td>\n",
       "      <td>4713.0</td>\n",
       "      <td>4185.947700</td>\n",
       "    </tr>\n",
       "    <tr>\n",
       "      <th>1</th>\n",
       "      <td>TUNE8SFB6RJN2HSD</td>\n",
       "      <td>38.0</td>\n",
       "      <td>2016-03-27 21:19:13.000</td>\n",
       "      <td>24</td>\n",
       "      <td>Klynn</td>\n",
       "      <td>Yes</td>\n",
       "      <td>Fashion</td>\n",
       "      <td>0</td>\n",
       "      <td>51</td>\n",
       "      <td>0.0</td>\n",
       "      <td>397.0</td>\n",
       "      <td>12.0</td>\n",
       "      <td>7495.0</td>\n",
       "      <td>10352.0</td>\n",
       "      <td>9271.490256</td>\n",
       "    </tr>\n",
       "    <tr>\n",
       "      <th>2</th>\n",
       "      <td>BRAEAR7WZPQGPBZU</td>\n",
       "      <td>9.0</td>\n",
       "      <td>2015-08-18 19:25:22.000</td>\n",
       "      <td>447</td>\n",
       "      <td>Ridge</td>\n",
       "      <td>Yes</td>\n",
       "      <td>Child_care</td>\n",
       "      <td>0</td>\n",
       "      <td>10</td>\n",
       "      <td>0.0</td>\n",
       "      <td>250.0</td>\n",
       "      <td>9.0</td>\n",
       "      <td>5752.0</td>\n",
       "      <td>7309.0</td>\n",
       "      <td>6785.701362</td>\n",
       "    </tr>\n",
       "    <tr>\n",
       "      <th>3</th>\n",
       "      <td>WATDZ2ZQ8JPDHCTJ</td>\n",
       "      <td>50.0</td>\n",
       "      <td>2016-03-28 21:53:01.000</td>\n",
       "      <td>23</td>\n",
       "      <td>Abran</td>\n",
       "      <td>Yes</td>\n",
       "      <td>Educational</td>\n",
       "      <td>2</td>\n",
       "      <td>48</td>\n",
       "      <td>0.0</td>\n",
       "      <td>144.0</td>\n",
       "      <td>13.0</td>\n",
       "      <td>5090.0</td>\n",
       "      <td>20814.0</td>\n",
       "      <td>13028.917824</td>\n",
       "    </tr>\n",
       "    <tr>\n",
       "      <th>4</th>\n",
       "      <td>JWSEBUKYQPMBZ3RK</td>\n",
       "      <td>7.0</td>\n",
       "      <td>2016-03-29 22:58:53.000</td>\n",
       "      <td>63</td>\n",
       "      <td>Dustyn</td>\n",
       "      <td>Yes</td>\n",
       "      <td>Repair</td>\n",
       "      <td>1</td>\n",
       "      <td>35</td>\n",
       "      <td>1.0</td>\n",
       "      <td>211.0</td>\n",
       "      <td>4.0</td>\n",
       "      <td>2430.0</td>\n",
       "      <td>9261.0</td>\n",
       "      <td>906.553935</td>\n",
       "    </tr>\n",
       "  </tbody>\n",
       "</table>\n",
       "</div>"
      ],
      "text/plain": [
       "         Product_id  Stall_no             instock_date  Market_Category  \\\n",
       "0  BRAE2NF6JA5GUEXG      37.0  2015-08-22 18:36:12.000                2   \n",
       "1  TUNE8SFB6RJN2HSD      38.0  2016-03-27 21:19:13.000               24   \n",
       "2  BRAEAR7WZPQGPBZU       9.0  2015-08-18 19:25:22.000              447   \n",
       "3  WATDZ2ZQ8JPDHCTJ      50.0  2016-03-28 21:53:01.000               23   \n",
       "4  JWSEBUKYQPMBZ3RK       7.0  2016-03-29 22:58:53.000               63   \n",
       "\n",
       "  Customer_name Loyalty_customer Product_Category  Grade  Demand  \\\n",
       "0      Lillyann              Yes          Fashion      1      68   \n",
       "1         Klynn              Yes          Fashion      0      51   \n",
       "2         Ridge              Yes       Child_care      0      10   \n",
       "3         Abran              Yes      Educational      2      48   \n",
       "4        Dustyn              Yes           Repair      1      35   \n",
       "\n",
       "   Discount_avail  charges_1  charges_2 (%)  Minimum_price  Maximum_price  \\\n",
       "0             0.0      376.0           11.0         2983.0         4713.0   \n",
       "1             0.0      397.0           12.0         7495.0        10352.0   \n",
       "2             0.0      250.0            9.0         5752.0         7309.0   \n",
       "3             0.0      144.0           13.0         5090.0        20814.0   \n",
       "4             1.0      211.0            4.0         2430.0         9261.0   \n",
       "\n",
       "   Selling_Price  \n",
       "0    4185.947700  \n",
       "1    9271.490256  \n",
       "2    6785.701362  \n",
       "3   13028.917824  \n",
       "4     906.553935  "
      ]
     },
     "execution_count": 5,
     "metadata": {},
     "output_type": "execute_result"
    }
   ],
   "source": [
    "train.head()"
   ]
  },
  {
   "cell_type": "code",
   "execution_count": 6,
   "metadata": {},
   "outputs": [
    {
     "data": {
      "text/plain": [
       "<matplotlib.axes._subplots.AxesSubplot at 0x15fc0e9c668>"
      ]
     },
     "execution_count": 6,
     "metadata": {},
     "output_type": "execute_result"
    },
    {
     "data": {
      "image/png": "[encoded data removed]",
      "text/plain": [
       "<Figure size 432x288 with 1 Axes>"
      ]
     },
     "metadata": {
      "needs_background": "light"
     },
     "output_type": "display_data"
    }
   ],
   "source": [
    "sns.countplot(train['Market_Category'])"
   ]
  },
  {
   "cell_type": "code",
   "execution_count": 8,
   "metadata": {},
   "outputs": [
    {
     "data": {
      "text/plain": [
       "<matplotlib.axes._subplots.AxesSubplot at 0x15fc140e160>"
      ]
     },
     "execution_count": 8,
     "metadata": {},
     "output_type": "execute_result"
    },
    {
     "data": {
      "image/png": "[encoded data removed]",
      "text/plain": [
       "<Figure size 432x288 with 1 Axes>"
      ]
     },
     "metadata": {
      "needs_background": "light"
     },
     "output_type": "display_data"
    }
   ],
   "source": [
    "sns.countplot(train['Product_Category'])"
   ]
  },
  {
   "cell_type": "code",
   "execution_count": 9,
   "metadata": {},
   "outputs": [
    {
     "data": {
      "text/html": [
       "<div>\n",
       "<style scoped>\n",
       "    .dataframe tbody tr th:only-of-type {\n",
       "        vertical-align: middle;\n",
       "    }\n",
       "\n",
       "    .dataframe tbody tr th {\n",
       "        vertical-align: top;\n",
       "    }\n",
       "\n",
       "    .dataframe thead th {\n",
       "        text-align: right;\n",
       "    }\n",
       "</style>\n",
       "<table border=\"1\" class=\"dataframe\">\n",
       "  <thead>\n",
       "    <tr style=\"text-align: right;\">\n",
       "      <th></th>\n",
       "      <th>Product_id</th>\n",
       "      <th>Stall_no</th>\n",
       "      <th>instock_date</th>\n",
       "      <th>Market_Category</th>\n",
       "      <th>Customer_name</th>\n",
       "      <th>Loyalty_customer</th>\n",
       "      <th>Product_Category</th>\n",
       "      <th>Grade</th>\n",
       "      <th>Demand</th>\n",
       "      <th>Discount_avail</th>\n",
       "      <th>charges_1</th>\n",
       "      <th>charges_2 (%)</th>\n",
       "      <th>Minimum_price</th>\n",
       "      <th>Maximum_price</th>\n",
       "      <th>Selling_Price</th>\n",
       "    </tr>\n",
       "  </thead>\n",
       "  <tbody>\n",
       "    <tr>\n",
       "      <th>0</th>\n",
       "      <td>BRAE2NF6JA5GUEXG</td>\n",
       "      <td>37.0</td>\n",
       "      <td>2015-08-22 18:36:12.000</td>\n",
       "      <td>2</td>\n",
       "      <td>Lillyann</td>\n",
       "      <td>Yes</td>\n",
       "      <td>Fashion</td>\n",
       "      <td>1</td>\n",
       "      <td>68</td>\n",
       "      <td>0.0</td>\n",
       "      <td>376.0</td>\n",
       "      <td>11.0</td>\n",
       "      <td>2983.0</td>\n",
       "      <td>4713.0</td>\n",
       "      <td>4185.947700</td>\n",
       "    </tr>\n",
       "    <tr>\n",
       "      <th>1</th>\n",
       "      <td>TUNE8SFB6RJN2HSD</td>\n",
       "      <td>38.0</td>\n",
       "      <td>2016-03-27 21:19:13.000</td>\n",
       "      <td>24</td>\n",
       "      <td>Klynn</td>\n",
       "      <td>Yes</td>\n",
       "      <td>Fashion</td>\n",
       "      <td>0</td>\n",
       "      <td>51</td>\n",
       "      <td>0.0</td>\n",
       "      <td>397.0</td>\n",
       "      <td>12.0</td>\n",
       "      <td>7495.0</td>\n",
       "      <td>10352.0</td>\n",
       "      <td>9271.490256</td>\n",
       "    </tr>\n",
       "    <tr>\n",
       "      <th>2</th>\n",
       "      <td>BRAEAR7WZPQGPBZU</td>\n",
       "      <td>9.0</td>\n",
       "      <td>2015-08-18 19:25:22.000</td>\n",
       "      <td>447</td>\n",
       "      <td>Ridge</td>\n",
       "      <td>Yes</td>\n",
       "      <td>Child_care</td>\n",
       "      <td>0</td>\n",
       "      <td>10</td>\n",
       "      <td>0.0</td>\n",
       "      <td>250.0</td>\n",
       "      <td>9.0</td>\n",
       "      <td>5752.0</td>\n",
       "      <td>7309.0</td>\n",
       "      <td>6785.701362</td>\n",
       "    </tr>\n",
       "    <tr>\n",
       "      <th>3</th>\n",
       "      <td>WATDZ2ZQ8JPDHCTJ</td>\n",
       "      <td>50.0</td>\n",
       "      <td>2016-03-28 21:53:01.000</td>\n",
       "      <td>23</td>\n",
       "      <td>Abran</td>\n",
       "      <td>Yes</td>\n",
       "      <td>Educational</td>\n",
       "      <td>2</td>\n",
       "      <td>48</td>\n",
       "      <td>0.0</td>\n",
       "      <td>144.0</td>\n",
       "      <td>13.0</td>\n",
       "      <td>5090.0</td>\n",
       "      <td>20814.0</td>\n",
       "      <td>13028.917824</td>\n",
       "    </tr>\n",
       "  </tbody>\n",
       "</table>\n",
       "</div>"
      ],
      "text/plain": [
       "         Product_id  Stall_no             instock_date  Market_Category  \\\n",
       "0  BRAE2NF6JA5GUEXG      37.0  2015-08-22 18:36:12.000                2   \n",
       "1  TUNE8SFB6RJN2HSD      38.0  2016-03-27 21:19:13.000               24   \n",
       "2  BRAEAR7WZPQGPBZU       9.0  2015-08-18 19:25:22.000              447   \n",
       "3  WATDZ2ZQ8JPDHCTJ      50.0  2016-03-28 21:53:01.000               23   \n",
       "\n",
       "  Customer_name Loyalty_customer Product_Category  Grade  Demand  \\\n",
       "0      Lillyann              Yes          Fashion      1      68   \n",
       "1         Klynn              Yes          Fashion      0      51   \n",
       "2         Ridge              Yes       Child_care      0      10   \n",
       "3         Abran              Yes      Educational      2      48   \n",
       "\n",
       "   Discount_avail  charges_1  charges_2 (%)  Minimum_price  Maximum_price  \\\n",
       "0             0.0      376.0           11.0         2983.0         4713.0   \n",
       "1             0.0      397.0           12.0         7495.0        10352.0   \n",
       "2             0.0      250.0            9.0         5752.0         7309.0   \n",
       "3             0.0      144.0           13.0         5090.0        20814.0   \n",
       "\n",
       "   Selling_Price  \n",
       "0    4185.947700  \n",
       "1    9271.490256  \n",
       "2    6785.701362  \n",
       "3   13028.917824  "
      ]
     },
     "execution_count": 9,
     "metadata": {},
     "output_type": "execute_result"
    }
   ],
   "source": [
    "train.head(4)"
   ]
  },
  {
   "cell_type": "code",
   "execution_count": 10,
   "metadata": {},
   "outputs": [],
   "source": [
    "train = train.dropna()"
   ]
  },
  {
   "cell_type": "code",
   "execution_count": 11,
   "metadata": {},
   "outputs": [],
   "source": [
    "train1=train.drop(['Product_id','Stall_no','instock_date','Market_Category','Customer_name','Selling_Price'],axis=1)"
   ]
  },
  {
   "cell_type": "code",
   "execution_count": 12,
   "metadata": {},
   "outputs": [
    {
     "data": {
      "text/plain": [
       "(5397, 15)"
      ]
     },
     "execution_count": 12,
     "metadata": {},
     "output_type": "execute_result"
    }
   ],
   "source": [
    "train.shape"
   ]
  },
  {
   "cell_type": "code",
   "execution_count": 13,
   "metadata": {},
   "outputs": [
    {
     "data": {
      "text/plain": [
       "(5397, 9)"
      ]
     },
     "execution_count": 13,
     "metadata": {},
     "output_type": "execute_result"
    }
   ],
   "source": [
    "train1.shape"
   ]
  },
  {
   "cell_type": "code",
   "execution_count": 14,
   "metadata": {},
   "outputs": [
    {
     "data": {
      "text/plain": [
       "Loyalty_customer    False\n",
       "Product_Category    False\n",
       "Grade               False\n",
       "Demand              False\n",
       "Discount_avail      False\n",
       "charges_1           False\n",
       "charges_2 (%)       False\n",
       "Minimum_price       False\n",
       "Maximum_price       False\n",
       "dtype: bool"
      ]
     },
     "execution_count": 14,
     "metadata": {},
     "output_type": "execute_result"
    }
   ],
   "source": [
    "train1.isnull().any()"
   ]
  },
  {
   "cell_type": "code",
   "execution_count": 15,
   "metadata": {},
   "outputs": [
    {
     "data": {
      "text/plain": [
       "Loyalty_customer    True\n",
       "Product_Category    True\n",
       "Grade               True\n",
       "Demand              True\n",
       "Discount_avail      True\n",
       "charges_1           True\n",
       "charges_2 (%)       True\n",
       "Minimum_price       True\n",
       "Maximum_price       True\n",
       "dtype: bool"
      ]
     },
     "execution_count": 15,
     "metadata": {},
     "output_type": "execute_result"
    }
   ],
   "source": [
    "np.isfinite(train1.all())"
   ]
  },
  {
   "cell_type": "code",
   "execution_count": 16,
   "metadata": {},
   "outputs": [],
   "source": [
    "X=pd.get_dummies(train1)\n",
    "y=train['Selling_Price']"
   ]
  },
  {
   "cell_type": "code",
   "execution_count": 17,
   "metadata": {},
   "outputs": [],
   "source": [
    "from sklearn.preprocessing import MinMaxScaler"
   ]
  },
  {
   "cell_type": "code",
   "execution_count": 18,
   "metadata": {},
   "outputs": [
    {
     "name": "stderr",
     "output_type": "stream",
     "text": [
      "C:\\Users\\ajay\\Anaconda3\\lib\\site-packages\\sklearn\\preprocessing\\data.py:323: DataConversionWarning: Data with input dtype uint8, int64, float64 were all converted to float64 by MinMaxScaler.\n",
      "  return self.partial_fit(X, y)\n"
     ]
    }
   ],
   "source": [
    "scaler=MinMaxScaler().fit(X)"
   ]
  },
  {
   "cell_type": "code",
   "execution_count": 19,
   "metadata": {},
   "outputs": [],
   "source": [
    "X=scaler.transform(X)"
   ]
  },
  {
   "cell_type": "code",
   "execution_count": 20,
   "metadata": {},
   "outputs": [],
   "source": [
    "from sklearn.model_selection import train_test_split\n",
    "from sklearn.model_selection import GridSearchCV\n",
    "from sklearn.ensemble import RandomForestRegressor"
   ]
  },
  {
   "cell_type": "code",
   "execution_count": 21,
   "metadata": {},
   "outputs": [],
   "source": [
    "X_train,X_test,y_train,y_test=train_test_split(X,y,random_state=0)"
   ]
  },
  {
   "cell_type": "code",
   "execution_count": null,
   "metadata": {},
   "outputs": [],
   "source": [
    "gd=GridSearchCV(RandomForestRegressor(),{'n_estimators':[50,100,150],'max_depth':[15,20,22,25]},cv=5).fit(X,y)"
   ]
  },
  {
   "cell_type": "code",
   "execution_count": 81,
   "metadata": {},
   "outputs": [
    {
     "name": "stdout",
     "output_type": "stream",
     "text": [
      "{'max_depth': 22, 'n_estimators': 150}\n"
     ]
    }
   ],
   "source": [
    "print(gd.best_params_)\n"
   ]
  },
  {
   "cell_type": "code",
   "execution_count": 83,
   "metadata": {},
   "outputs": [
    {
     "data": {
      "text/html": [
       "<div>\n",
       "<style scoped>\n",
       "    .dataframe tbody tr th:only-of-type {\n",
       "        vertical-align: middle;\n",
       "    }\n",
       "\n",
       "    .dataframe tbody tr th {\n",
       "        vertical-align: top;\n",
       "    }\n",
       "\n",
       "    .dataframe thead th {\n",
       "        text-align: right;\n",
       "    }\n",
       "</style>\n",
       "<table border=\"1\" class=\"dataframe\">\n",
       "  <thead>\n",
       "    <tr style=\"text-align: right;\">\n",
       "      <th></th>\n",
       "      <th>mean_fit_time</th>\n",
       "      <th>std_fit_time</th>\n",
       "      <th>mean_score_time</th>\n",
       "      <th>std_score_time</th>\n",
       "      <th>param_max_depth</th>\n",
       "      <th>param_n_estimators</th>\n",
       "      <th>params</th>\n",
       "      <th>split0_test_score</th>\n",
       "      <th>split1_test_score</th>\n",
       "      <th>split2_test_score</th>\n",
       "      <th>...</th>\n",
       "      <th>mean_test_score</th>\n",
       "      <th>std_test_score</th>\n",
       "      <th>rank_test_score</th>\n",
       "      <th>split0_train_score</th>\n",
       "      <th>split1_train_score</th>\n",
       "      <th>split2_train_score</th>\n",
       "      <th>split3_train_score</th>\n",
       "      <th>split4_train_score</th>\n",
       "      <th>mean_train_score</th>\n",
       "      <th>std_train_score</th>\n",
       "    </tr>\n",
       "  </thead>\n",
       "  <tbody>\n",
       "    <tr>\n",
       "      <th>0</th>\n",
       "      <td>1.378391</td>\n",
       "      <td>0.017880</td>\n",
       "      <td>0.017718</td>\n",
       "      <td>0.001428</td>\n",
       "      <td>15</td>\n",
       "      <td>50</td>\n",
       "      <td>{'max_depth': 15, 'n_estimators': 50}</td>\n",
       "      <td>0.968521</td>\n",
       "      <td>0.966375</td>\n",
       "      <td>0.990915</td>\n",
       "      <td>...</td>\n",
       "      <td>0.975792</td>\n",
       "      <td>0.008984</td>\n",
       "      <td>12</td>\n",
       "      <td>0.997251</td>\n",
       "      <td>0.996951</td>\n",
       "      <td>0.996185</td>\n",
       "      <td>0.997374</td>\n",
       "      <td>0.996777</td>\n",
       "      <td>0.996908</td>\n",
       "      <td>0.000419</td>\n",
       "    </tr>\n",
       "    <tr>\n",
       "      <th>1</th>\n",
       "      <td>2.710652</td>\n",
       "      <td>0.023908</td>\n",
       "      <td>0.037383</td>\n",
       "      <td>0.003715</td>\n",
       "      <td>15</td>\n",
       "      <td>100</td>\n",
       "      <td>{'max_depth': 15, 'n_estimators': 100}</td>\n",
       "      <td>0.969949</td>\n",
       "      <td>0.966167</td>\n",
       "      <td>0.990970</td>\n",
       "      <td>...</td>\n",
       "      <td>0.976530</td>\n",
       "      <td>0.008963</td>\n",
       "      <td>3</td>\n",
       "      <td>0.996728</td>\n",
       "      <td>0.997077</td>\n",
       "      <td>0.996207</td>\n",
       "      <td>0.997293</td>\n",
       "      <td>0.996470</td>\n",
       "      <td>0.996755</td>\n",
       "      <td>0.000394</td>\n",
       "    </tr>\n",
       "    <tr>\n",
       "      <th>2</th>\n",
       "      <td>4.215303</td>\n",
       "      <td>0.142624</td>\n",
       "      <td>0.053774</td>\n",
       "      <td>0.005831</td>\n",
       "      <td>15</td>\n",
       "      <td>150</td>\n",
       "      <td>{'max_depth': 15, 'n_estimators': 150}</td>\n",
       "      <td>0.970573</td>\n",
       "      <td>0.966192</td>\n",
       "      <td>0.990278</td>\n",
       "      <td>...</td>\n",
       "      <td>0.976543</td>\n",
       "      <td>0.008652</td>\n",
       "      <td>2</td>\n",
       "      <td>0.996736</td>\n",
       "      <td>0.997417</td>\n",
       "      <td>0.995847</td>\n",
       "      <td>0.997033</td>\n",
       "      <td>0.996619</td>\n",
       "      <td>0.996730</td>\n",
       "      <td>0.000521</td>\n",
       "    </tr>\n",
       "    <tr>\n",
       "      <th>3</th>\n",
       "      <td>1.638897</td>\n",
       "      <td>0.212898</td>\n",
       "      <td>0.018736</td>\n",
       "      <td>0.006650</td>\n",
       "      <td>20</td>\n",
       "      <td>50</td>\n",
       "      <td>{'max_depth': 20, 'n_estimators': 50}</td>\n",
       "      <td>0.970270</td>\n",
       "      <td>0.967108</td>\n",
       "      <td>0.990749</td>\n",
       "      <td>...</td>\n",
       "      <td>0.976522</td>\n",
       "      <td>0.008575</td>\n",
       "      <td>4</td>\n",
       "      <td>0.997021</td>\n",
       "      <td>0.997214</td>\n",
       "      <td>0.996370</td>\n",
       "      <td>0.996508</td>\n",
       "      <td>0.996203</td>\n",
       "      <td>0.996663</td>\n",
       "      <td>0.000388</td>\n",
       "    </tr>\n",
       "    <tr>\n",
       "      <th>4</th>\n",
       "      <td>3.132339</td>\n",
       "      <td>0.191387</td>\n",
       "      <td>0.049350</td>\n",
       "      <td>0.012058</td>\n",
       "      <td>20</td>\n",
       "      <td>100</td>\n",
       "      <td>{'max_depth': 20, 'n_estimators': 100}</td>\n",
       "      <td>0.969883</td>\n",
       "      <td>0.966033</td>\n",
       "      <td>0.990794</td>\n",
       "      <td>...</td>\n",
       "      <td>0.976469</td>\n",
       "      <td>0.008985</td>\n",
       "      <td>5</td>\n",
       "      <td>0.997280</td>\n",
       "      <td>0.997427</td>\n",
       "      <td>0.996385</td>\n",
       "      <td>0.997030</td>\n",
       "      <td>0.996665</td>\n",
       "      <td>0.996957</td>\n",
       "      <td>0.000386</td>\n",
       "    </tr>\n",
       "    <tr>\n",
       "      <th>5</th>\n",
       "      <td>4.616341</td>\n",
       "      <td>0.451001</td>\n",
       "      <td>0.059568</td>\n",
       "      <td>0.007705</td>\n",
       "      <td>20</td>\n",
       "      <td>150</td>\n",
       "      <td>{'max_depth': 20, 'n_estimators': 150}</td>\n",
       "      <td>0.969671</td>\n",
       "      <td>0.965959</td>\n",
       "      <td>0.990656</td>\n",
       "      <td>...</td>\n",
       "      <td>0.976433</td>\n",
       "      <td>0.009029</td>\n",
       "      <td>7</td>\n",
       "      <td>0.997170</td>\n",
       "      <td>0.997372</td>\n",
       "      <td>0.996195</td>\n",
       "      <td>0.997078</td>\n",
       "      <td>0.996420</td>\n",
       "      <td>0.996847</td>\n",
       "      <td>0.000456</td>\n",
       "    </tr>\n",
       "    <tr>\n",
       "      <th>6</th>\n",
       "      <td>1.431699</td>\n",
       "      <td>0.014038</td>\n",
       "      <td>0.018794</td>\n",
       "      <td>0.000754</td>\n",
       "      <td>22</td>\n",
       "      <td>50</td>\n",
       "      <td>{'max_depth': 22, 'n_estimators': 50}</td>\n",
       "      <td>0.970242</td>\n",
       "      <td>0.965721</td>\n",
       "      <td>0.990590</td>\n",
       "      <td>...</td>\n",
       "      <td>0.976156</td>\n",
       "      <td>0.008960</td>\n",
       "      <td>11</td>\n",
       "      <td>0.996216</td>\n",
       "      <td>0.997114</td>\n",
       "      <td>0.995724</td>\n",
       "      <td>0.996775</td>\n",
       "      <td>0.996514</td>\n",
       "      <td>0.996469</td>\n",
       "      <td>0.000475</td>\n",
       "    </tr>\n",
       "    <tr>\n",
       "      <th>7</th>\n",
       "      <td>2.822615</td>\n",
       "      <td>0.023847</td>\n",
       "      <td>0.037377</td>\n",
       "      <td>0.002491</td>\n",
       "      <td>22</td>\n",
       "      <td>100</td>\n",
       "      <td>{'max_depth': 22, 'n_estimators': 100}</td>\n",
       "      <td>0.969279</td>\n",
       "      <td>0.965881</td>\n",
       "      <td>0.990805</td>\n",
       "      <td>...</td>\n",
       "      <td>0.976412</td>\n",
       "      <td>0.009101</td>\n",
       "      <td>8</td>\n",
       "      <td>0.996901</td>\n",
       "      <td>0.996891</td>\n",
       "      <td>0.996106</td>\n",
       "      <td>0.996634</td>\n",
       "      <td>0.996441</td>\n",
       "      <td>0.996595</td>\n",
       "      <td>0.000299</td>\n",
       "    </tr>\n",
       "    <tr>\n",
       "      <th>8</th>\n",
       "      <td>4.280863</td>\n",
       "      <td>0.053179</td>\n",
       "      <td>0.052752</td>\n",
       "      <td>0.003224</td>\n",
       "      <td>22</td>\n",
       "      <td>150</td>\n",
       "      <td>{'max_depth': 22, 'n_estimators': 150}</td>\n",
       "      <td>0.970169</td>\n",
       "      <td>0.966067</td>\n",
       "      <td>0.990881</td>\n",
       "      <td>...</td>\n",
       "      <td>0.976594</td>\n",
       "      <td>0.008989</td>\n",
       "      <td>1</td>\n",
       "      <td>0.997354</td>\n",
       "      <td>0.997453</td>\n",
       "      <td>0.996173</td>\n",
       "      <td>0.997100</td>\n",
       "      <td>0.996682</td>\n",
       "      <td>0.996952</td>\n",
       "      <td>0.000472</td>\n",
       "    </tr>\n",
       "    <tr>\n",
       "      <th>9</th>\n",
       "      <td>1.395329</td>\n",
       "      <td>0.004871</td>\n",
       "      <td>0.018522</td>\n",
       "      <td>0.002064</td>\n",
       "      <td>25</td>\n",
       "      <td>50</td>\n",
       "      <td>{'max_depth': 25, 'n_estimators': 50}</td>\n",
       "      <td>0.970217</td>\n",
       "      <td>0.966002</td>\n",
       "      <td>0.990199</td>\n",
       "      <td>...</td>\n",
       "      <td>0.976339</td>\n",
       "      <td>0.008652</td>\n",
       "      <td>9</td>\n",
       "      <td>0.996446</td>\n",
       "      <td>0.997069</td>\n",
       "      <td>0.995503</td>\n",
       "      <td>0.997069</td>\n",
       "      <td>0.996182</td>\n",
       "      <td>0.996454</td>\n",
       "      <td>0.000589</td>\n",
       "    </tr>\n",
       "    <tr>\n",
       "      <th>10</th>\n",
       "      <td>2.812744</td>\n",
       "      <td>0.040377</td>\n",
       "      <td>0.036380</td>\n",
       "      <td>0.001356</td>\n",
       "      <td>25</td>\n",
       "      <td>100</td>\n",
       "      <td>{'max_depth': 25, 'n_estimators': 100}</td>\n",
       "      <td>0.969689</td>\n",
       "      <td>0.966254</td>\n",
       "      <td>0.990119</td>\n",
       "      <td>...</td>\n",
       "      <td>0.976461</td>\n",
       "      <td>0.008781</td>\n",
       "      <td>6</td>\n",
       "      <td>0.997222</td>\n",
       "      <td>0.996874</td>\n",
       "      <td>0.996427</td>\n",
       "      <td>0.996677</td>\n",
       "      <td>0.996417</td>\n",
       "      <td>0.996723</td>\n",
       "      <td>0.000302</td>\n",
       "    </tr>\n",
       "    <tr>\n",
       "      <th>11</th>\n",
       "      <td>4.178526</td>\n",
       "      <td>0.015633</td>\n",
       "      <td>0.052571</td>\n",
       "      <td>0.000489</td>\n",
       "      <td>25</td>\n",
       "      <td>150</td>\n",
       "      <td>{'max_depth': 25, 'n_estimators': 150}</td>\n",
       "      <td>0.970114</td>\n",
       "      <td>0.966104</td>\n",
       "      <td>0.990794</td>\n",
       "      <td>...</td>\n",
       "      <td>0.976312</td>\n",
       "      <td>0.008856</td>\n",
       "      <td>10</td>\n",
       "      <td>0.996963</td>\n",
       "      <td>0.997560</td>\n",
       "      <td>0.996357</td>\n",
       "      <td>0.997101</td>\n",
       "      <td>0.996802</td>\n",
       "      <td>0.996957</td>\n",
       "      <td>0.000392</td>\n",
       "    </tr>\n",
       "  </tbody>\n",
       "</table>\n",
       "<p>12 rows × 22 columns</p>\n",
       "</div>"
      ],
      "text/plain": [
       "    mean_fit_time  std_fit_time  mean_score_time  std_score_time  \\\n",
       "0        1.378391      0.017880         0.017718        0.001428   \n",
       "1        2.710652      0.023908         0.037383        0.003715   \n",
       "2        4.215303      0.142624         0.053774        0.005831   \n",
       "3        1.638897      0.212898         0.018736        0.006650   \n",
       "4        3.132339      0.191387         0.049350        0.012058   \n",
       "5        4.616341      0.451001         0.059568        0.007705   \n",
       "6        1.431699      0.014038         0.018794        0.000754   \n",
       "7        2.822615      0.023847         0.037377        0.002491   \n",
       "8        4.280863      0.053179         0.052752        0.003224   \n",
       "9        1.395329      0.004871         0.018522        0.002064   \n",
       "10       2.812744      0.040377         0.036380        0.001356   \n",
       "11       4.178526      0.015633         0.052571        0.000489   \n",
       "\n",
       "   param_max_depth param_n_estimators                                  params  \\\n",
       "0               15                 50   {'max_depth': 15, 'n_estimators': 50}   \n",
       "1               15                100  {'max_depth': 15, 'n_estimators': 100}   \n",
       "2               15                150  {'max_depth': 15, 'n_estimators': 150}   \n",
       "3               20                 50   {'max_depth': 20, 'n_estimators': 50}   \n",
       "4               20                100  {'max_depth': 20, 'n_estimators': 100}   \n",
       "5               20                150  {'max_depth': 20, 'n_estimators': 150}   \n",
       "6               22                 50   {'max_depth': 22, 'n_estimators': 50}   \n",
       "7               22                100  {'max_depth': 22, 'n_estimators': 100}   \n",
       "8               22                150  {'max_depth': 22, 'n_estimators': 150}   \n",
       "9               25                 50   {'max_depth': 25, 'n_estimators': 50}   \n",
       "10              25                100  {'max_depth': 25, 'n_estimators': 100}   \n",
       "11              25                150  {'max_depth': 25, 'n_estimators': 150}   \n",
       "\n",
       "    split0_test_score  split1_test_score  split2_test_score       ...         \\\n",
       "0            0.968521           0.966375           0.990915       ...          \n",
       "1            0.969949           0.966167           0.990970       ...          \n",
       "2            0.970573           0.966192           0.990278       ...          \n",
       "3            0.970270           0.967108           0.990749       ...          \n",
       "4            0.969883           0.966033           0.990794       ...          \n",
       "5            0.969671           0.965959           0.990656       ...          \n",
       "6            0.970242           0.965721           0.990590       ...          \n",
       "7            0.969279           0.965881           0.990805       ...          \n",
       "8            0.970169           0.966067           0.990881       ...          \n",
       "9            0.970217           0.966002           0.990199       ...          \n",
       "10           0.969689           0.966254           0.990119       ...          \n",
       "11           0.970114           0.966104           0.990794       ...          \n",
       "\n",
       "    mean_test_score  std_test_score  rank_test_score  split0_train_score  \\\n",
       "0          0.975792        0.008984               12            0.997251   \n",
       "1          0.976530        0.008963                3            0.996728   \n",
       "2          0.976543        0.008652                2            0.996736   \n",
       "3          0.976522        0.008575                4            0.997021   \n",
       "4          0.976469        0.008985                5            0.997280   \n",
       "5          0.976433        0.009029                7            0.997170   \n",
       "6          0.976156        0.008960               11            0.996216   \n",
       "7          0.976412        0.009101                8            0.996901   \n",
       "8          0.976594        0.008989                1            0.997354   \n",
       "9          0.976339        0.008652                9            0.996446   \n",
       "10         0.976461        0.008781                6            0.997222   \n",
       "11         0.976312        0.008856               10            0.996963   \n",
       "\n",
       "    split1_train_score  split2_train_score  split3_train_score  \\\n",
       "0             0.996951            0.996185            0.997374   \n",
       "1             0.997077            0.996207            0.997293   \n",
       "2             0.997417            0.995847            0.997033   \n",
       "3             0.997214            0.996370            0.996508   \n",
       "4             0.997427            0.996385            0.997030   \n",
       "5             0.997372            0.996195            0.997078   \n",
       "6             0.997114            0.995724            0.996775   \n",
       "7             0.996891            0.996106            0.996634   \n",
       "8             0.997453            0.996173            0.997100   \n",
       "9             0.997069            0.995503            0.997069   \n",
       "10            0.996874            0.996427            0.996677   \n",
       "11            0.997560            0.996357            0.997101   \n",
       "\n",
       "    split4_train_score  mean_train_score  std_train_score  \n",
       "0             0.996777          0.996908         0.000419  \n",
       "1             0.996470          0.996755         0.000394  \n",
       "2             0.996619          0.996730         0.000521  \n",
       "3             0.996203          0.996663         0.000388  \n",
       "4             0.996665          0.996957         0.000386  \n",
       "5             0.996420          0.996847         0.000456  \n",
       "6             0.996514          0.996469         0.000475  \n",
       "7             0.996441          0.996595         0.000299  \n",
       "8             0.996682          0.996952         0.000472  \n",
       "9             0.996182          0.996454         0.000589  \n",
       "10            0.996417          0.996723         0.000302  \n",
       "11            0.996802          0.996957         0.000392  \n",
       "\n",
       "[12 rows x 22 columns]"
      ]
     },
     "execution_count": 83,
     "metadata": {},
     "output_type": "execute_result"
    }
   ],
   "source": [
    "pd.DataFrame(gd.cv_results_)"
   ]
  },
  {
   "cell_type": "code",
   "execution_count": 84,
   "metadata": {},
   "outputs": [
    {
     "data": {
      "text/plain": [
       "0.9970344884706247"
      ]
     },
     "execution_count": 84,
     "metadata": {},
     "output_type": "execute_result"
    }
   ],
   "source": [
    "gd.best_estimator_.score(X_test,y_test)"
   ]
  },
  {
   "cell_type": "code",
   "execution_count": 94,
   "metadata": {},
   "outputs": [],
   "source": [
    "from sklearn.metrics import mean_squared_error as rmse"
   ]
  },
  {
   "cell_type": "code",
   "execution_count": 96,
   "metadata": {},
   "outputs": [
    {
     "data": {
      "text/plain": [
       "0"
      ]
     },
     "execution_count": 96,
     "metadata": {},
     "output_type": "execute_result"
    }
   ],
   "source": [
    "max(0,100-rmse(y_test,gd.best_estimator_.predict(X_test)))"
   ]
  },
  {
   "cell_type": "code",
   "execution_count": 97,
   "metadata": {},
   "outputs": [
    {
     "data": {
      "text/plain": [
       "array([ 5702.33165111,  7227.0444983 , 12352.04695521, ...,\n",
       "       11675.91586051,  8605.688831  ,  3715.22598105])"
      ]
     },
     "execution_count": 97,
     "metadata": {},
     "output_type": "execute_result"
    }
   ],
   "source": [
    "gd.best_estimator_.predict(X_test)"
   ]
  },
  {
   "cell_type": "code",
   "execution_count": 101,
   "metadata": {},
   "outputs": [],
   "source": [
    "test=pd.read_csv('Haker earth carnival wars/test.csv')"
   ]
  },
  {
   "cell_type": "code",
   "execution_count": 102,
   "metadata": {},
   "outputs": [
    {
     "data": {
      "text/html": [
       "<div>\n",
       "<style scoped>\n",
       "    .dataframe tbody tr th:only-of-type {\n",
       "        vertical-align: middle;\n",
       "    }\n",
       "\n",
       "    .dataframe tbody tr th {\n",
       "        vertical-align: top;\n",
       "    }\n",
       "\n",
       "    .dataframe thead th {\n",
       "        text-align: right;\n",
       "    }\n",
       "</style>\n",
       "<table border=\"1\" class=\"dataframe\">\n",
       "  <thead>\n",
       "    <tr style=\"text-align: right;\">\n",
       "      <th></th>\n",
       "      <th>Product_id</th>\n",
       "      <th>Stall_no</th>\n",
       "      <th>instock_date</th>\n",
       "      <th>Market_Category</th>\n",
       "      <th>Customer_name</th>\n",
       "      <th>Loyalty_customer</th>\n",
       "      <th>Product_Category</th>\n",
       "      <th>Grade</th>\n",
       "      <th>Demand</th>\n",
       "      <th>Discount_avail</th>\n",
       "      <th>charges_1</th>\n",
       "      <th>charges_2 (%)</th>\n",
       "      <th>Minimum_price</th>\n",
       "      <th>Maximum_price</th>\n",
       "    </tr>\n",
       "  </thead>\n",
       "  <tbody>\n",
       "    <tr>\n",
       "      <th>0</th>\n",
       "      <td>SCHE4YSTDVPVZVXW</td>\n",
       "      <td>39.0</td>\n",
       "      <td>2016-01-13 07:45:08.000</td>\n",
       "      <td>205</td>\n",
       "      <td>Ivanka</td>\n",
       "      <td>No</td>\n",
       "      <td>Fashion</td>\n",
       "      <td>0</td>\n",
       "      <td>90</td>\n",
       "      <td>0</td>\n",
       "      <td>380.0</td>\n",
       "      <td>16.0</td>\n",
       "      <td>2576.0</td>\n",
       "      <td>3340</td>\n",
       "    </tr>\n",
       "    <tr>\n",
       "      <th>1</th>\n",
       "      <td>ACCEGCATKHNRXUHW</td>\n",
       "      <td>49.0</td>\n",
       "      <td>2015-08-23 20:37:05.000</td>\n",
       "      <td>3</td>\n",
       "      <td>Isaak</td>\n",
       "      <td>Yes</td>\n",
       "      <td>Fashion</td>\n",
       "      <td>0</td>\n",
       "      <td>87</td>\n",
       "      <td>0</td>\n",
       "      <td>393.0</td>\n",
       "      <td>16.0</td>\n",
       "      <td>1202.0</td>\n",
       "      <td>1955</td>\n",
       "    </tr>\n",
       "    <tr>\n",
       "      <th>2</th>\n",
       "      <td>NKCE6GJ5XVJDXNNZ</td>\n",
       "      <td>1.0</td>\n",
       "      <td>2015-11-14 18:12:39.000</td>\n",
       "      <td>183</td>\n",
       "      <td>Analiese</td>\n",
       "      <td>No</td>\n",
       "      <td>Technology</td>\n",
       "      <td>2</td>\n",
       "      <td>55</td>\n",
       "      <td>0</td>\n",
       "      <td>493.0</td>\n",
       "      <td>9.0</td>\n",
       "      <td>7175.0</td>\n",
       "      <td>15715</td>\n",
       "    </tr>\n",
       "    <tr>\n",
       "      <th>3</th>\n",
       "      <td>NKCEB8BK3ZXDHDHM</td>\n",
       "      <td>8.0</td>\n",
       "      <td>2015-11-21 04:56:19.000</td>\n",
       "      <td>358</td>\n",
       "      <td>Rusty</td>\n",
       "      <td>Yes</td>\n",
       "      <td>Child_care</td>\n",
       "      <td>3</td>\n",
       "      <td>86</td>\n",
       "      <td>0</td>\n",
       "      <td>303.0</td>\n",
       "      <td>16.0</td>\n",
       "      <td>5404.0</td>\n",
       "      <td>13078</td>\n",
       "    </tr>\n",
       "    <tr>\n",
       "      <th>4</th>\n",
       "      <td>TOPEFDXSAHRNPF94</td>\n",
       "      <td>33.0</td>\n",
       "      <td>2015-05-06 15:09:46.000</td>\n",
       "      <td>167</td>\n",
       "      <td>Eloise</td>\n",
       "      <td>No</td>\n",
       "      <td>Technology</td>\n",
       "      <td>0</td>\n",
       "      <td>27</td>\n",
       "      <td>0</td>\n",
       "      <td>567.0</td>\n",
       "      <td>16.0</td>\n",
       "      <td>4069.0</td>\n",
       "      <td>6244</td>\n",
       "    </tr>\n",
       "  </tbody>\n",
       "</table>\n",
       "</div>"
      ],
      "text/plain": [
       "         Product_id  Stall_no             instock_date  Market_Category  \\\n",
       "0  SCHE4YSTDVPVZVXW      39.0  2016-01-13 07:45:08.000              205   \n",
       "1  ACCEGCATKHNRXUHW      49.0  2015-08-23 20:37:05.000                3   \n",
       "2  NKCE6GJ5XVJDXNNZ       1.0  2015-11-14 18:12:39.000              183   \n",
       "3  NKCEB8BK3ZXDHDHM       8.0  2015-11-21 04:56:19.000              358   \n",
       "4  TOPEFDXSAHRNPF94      33.0  2015-05-06 15:09:46.000              167   \n",
       "\n",
       "  Customer_name Loyalty_customer Product_Category  Grade  Demand  \\\n",
       "0        Ivanka              No           Fashion      0      90   \n",
       "1         Isaak              Yes          Fashion      0      87   \n",
       "2      Analiese              No        Technology      2      55   \n",
       "3         Rusty              Yes       Child_care      3      86   \n",
       "4        Eloise              No        Technology      0      27   \n",
       "\n",
       "   Discount_avail  charges_1  charges_2 (%)  Minimum_price  Maximum_price  \n",
       "0               0      380.0           16.0         2576.0           3340  \n",
       "1               0      393.0           16.0         1202.0           1955  \n",
       "2               0      493.0            9.0         7175.0          15715  \n",
       "3               0      303.0           16.0         5404.0          13078  \n",
       "4               0      567.0           16.0         4069.0           6244  "
      ]
     },
     "execution_count": 102,
     "metadata": {},
     "output_type": "execute_result"
    }
   ],
   "source": [
    "test.head()"
   ]
  },
  {
   "cell_type": "code",
   "execution_count": 104,
   "metadata": {},
   "outputs": [],
   "source": [
    "test1=test.copy()"
   ]
  },
  {
   "cell_type": "code",
   "execution_count": 105,
   "metadata": {},
   "outputs": [],
   "source": [
    "test1.drop(['Product_id','Stall_no','instock_date','Market_Category','Customer_name'],axis=1,inplace=True)"
   ]
  },
  {
   "cell_type": "code",
   "execution_count": 107,
   "metadata": {},
   "outputs": [
    {
     "data": {
      "text/plain": [
       "(3430, 9)"
      ]
     },
     "execution_count": 107,
     "metadata": {},
     "output_type": "execute_result"
    }
   ],
   "source": [
    "test1.shape"
   ]
  },
  {
   "cell_type": "code",
   "execution_count": 108,
   "metadata": {},
   "outputs": [
    {
     "data": {
      "text/plain": [
       "Loyalty_customer    False\n",
       "Product_Category    False\n",
       "Grade               False\n",
       "Demand              False\n",
       "Discount_avail      False\n",
       "charges_1            True\n",
       "charges_2 (%)        True\n",
       "Minimum_price        True\n",
       "Maximum_price       False\n",
       "dtype: bool"
      ]
     },
     "execution_count": 108,
     "metadata": {},
     "output_type": "execute_result"
    }
   ],
   "source": [
    "test1.isnull().any()"
   ]
  },
  {
   "cell_type": "code",
   "execution_count": 109,
   "metadata": {},
   "outputs": [],
   "source": [
    "test1.fillna(0.0,inplace=True)"
   ]
  },
  {
   "cell_type": "code",
   "execution_count": 110,
   "metadata": {},
   "outputs": [
    {
     "data": {
      "text/plain": [
       "Loyalty_customer    False\n",
       "Product_Category    False\n",
       "Grade               False\n",
       "Demand              False\n",
       "Discount_avail      False\n",
       "charges_1           False\n",
       "charges_2 (%)       False\n",
       "Minimum_price       False\n",
       "Maximum_price       False\n",
       "dtype: bool"
      ]
     },
     "execution_count": 110,
     "metadata": {},
     "output_type": "execute_result"
    }
   ],
   "source": [
    "test1.isnull().any()"
   ]
  },
  {
   "cell_type": "code",
   "execution_count": 112,
   "metadata": {},
   "outputs": [],
   "source": [
    "test1=pd.get_dummies(test1)"
   ]
  },
  {
   "cell_type": "code",
   "execution_count": 113,
   "metadata": {},
   "outputs": [],
   "source": [
    "Xt=scaler.transform(test1)\n"
   ]
  },
  {
   "cell_type": "code",
   "execution_count": 119,
   "metadata": {},
   "outputs": [
    {
     "data": {
      "text/plain": [
       "array([ 3264.87514283,  1954.23055818, 11732.67422601, ...,\n",
       "        6511.52345318,  3581.14821141,  1011.38627007])"
      ]
     },
     "execution_count": 119,
     "metadata": {},
     "output_type": "execute_result"
    }
   ],
   "source": [
    "gd.best_estimator_.predict(Xt)"
   ]
  },
  {
   "cell_type": "code",
   "execution_count": 116,
   "metadata": {},
   "outputs": [],
   "source": [
    "submission=pd.DataFrame([])"
   ]
  },
  {
   "cell_type": "code",
   "execution_count": 117,
   "metadata": {},
   "outputs": [],
   "source": [
    "submission['Product_id']=test['Product_id']"
   ]
  },
  {
   "cell_type": "code",
   "execution_count": 120,
   "metadata": {},
   "outputs": [],
   "source": [
    "submission['Selling_Price']=gd.best_estimator_.predict(Xt)"
   ]
  },
  {
   "cell_type": "code",
   "execution_count": 122,
   "metadata": {},
   "outputs": [],
   "source": [
    "submission.to_csv('carnival wars submission.csv',index=None)"
   ]
  },
  {
   "cell_type": "code",
   "execution_count": null,
   "metadata": {},
   "outputs": [],
   "source": []
  }
 ],
 "metadata": {
  "kernelspec": {
   "display_name": "Python 3",
   "language": "python",
   "name": "python3"
  },
  "language_info": {
   "codemirror_mode": {
    "name": "ipython",
    "version": 3
   },
   "file_extension": ".py",
   "mimetype": "text/x-python",
   "name": "python",
   "nbconvert_exporter": "python",
   "pygments_lexer": "ipython3",
   "version": "3.7.1"
  }
 },
 "nbformat": 4,
 "nbformat_minor": 2
}
